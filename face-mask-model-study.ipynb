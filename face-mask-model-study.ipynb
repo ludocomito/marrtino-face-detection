{
 "cells": [
  {
   "cell_type": "markdown",
   "id": "0bb97c43",
   "metadata": {
    "papermill": {
     "duration": 0.003414,
     "end_time": "2022-07-25T16:42:39.235232",
     "exception": false,
     "start_time": "2022-07-25T16:42:39.231818",
     "status": "completed"
    },
    "tags": []
   },
   "source": [
    "# Face Mask classifier testing\n",
    "This notebook has been created in order to measure the face mask classifier performance in terms of quality of predictions. The test is made using a confusion matrix to evaluate the percentage of correct guesses of the model."
   ]
  },
  {
   "cell_type": "code",
   "execution_count": 1,
   "id": "2f774545",
   "metadata": {
    "_cell_guid": "b1076dfc-b9ad-4769-8c92-a6c4dae69d19",
    "_uuid": "8f2839f25d086af736a60e9eeb907d3b93b6e0e5",
    "execution": {
     "iopub.execute_input": "2022-07-25T16:42:39.242289Z",
     "iopub.status.busy": "2022-07-25T16:42:39.241864Z",
     "iopub.status.idle": "2022-07-25T16:42:41.148934Z",
     "shell.execute_reply": "2022-07-25T16:42:41.147940Z"
    },
    "papermill": {
     "duration": 1.913358,
     "end_time": "2022-07-25T16:42:41.151423",
     "exception": false,
     "start_time": "2022-07-25T16:42:39.238065",
     "status": "completed"
    },
    "tags": []
   },
   "outputs": [],
   "source": [
    "import torch\n",
    "import torch.nn as nn\n",
    "from torch.utils.data import DataLoader, random_split\n",
    "import numpy as np\n",
    "import torchvision\n",
    "from torchvision import datasets, models, transforms\n",
    "import matplotlib.pyplot as plt\n",
    "import os\n"
   ]
  },
  {
   "cell_type": "code",
   "execution_count": 2,
   "id": "3d2768b5",
   "metadata": {
    "execution": {
     "iopub.execute_input": "2022-07-25T16:42:41.157991Z",
     "iopub.status.busy": "2022-07-25T16:42:41.157569Z",
     "iopub.status.idle": "2022-07-25T16:42:44.932195Z",
     "shell.execute_reply": "2022-07-25T16:42:44.931291Z"
    },
    "papermill": {
     "duration": 3.780421,
     "end_time": "2022-07-25T16:42:44.934525",
     "exception": false,
     "start_time": "2022-07-25T16:42:41.154104",
     "status": "completed"
    },
    "tags": []
   },
   "outputs": [
    {
     "data": {
      "text/plain": [
       "<All keys matched successfully>"
      ]
     },
     "execution_count": 2,
     "metadata": {},
     "output_type": "execute_result"
    }
   ],
   "source": [
    "#import model\n",
    "device = torch.device(\"cuda:0\" if torch.cuda.is_available() else \"cpu\")\n",
    "model = models.resnet18(pretrained=False)\n",
    "num_ftrs = model.fc.in_features\n",
    "model.fc = nn.Linear(num_ftrs, 3)\n",
    "model = model.to(device)\n",
    "model.load_state_dict(torch.load('../input/trainedmodel/mask_recognition_model.pth', map_location=device))"
   ]
  },
  {
   "cell_type": "code",
   "execution_count": 3,
   "id": "c00ebeed",
   "metadata": {
    "execution": {
     "iopub.execute_input": "2022-07-25T16:42:44.941341Z",
     "iopub.status.busy": "2022-07-25T16:42:44.941039Z",
     "iopub.status.idle": "2022-07-25T16:42:54.538822Z",
     "shell.execute_reply": "2022-07-25T16:42:54.537753Z"
    },
    "papermill": {
     "duration": 9.603394,
     "end_time": "2022-07-25T16:42:54.540880",
     "exception": false,
     "start_time": "2022-07-25T16:42:44.937486",
     "status": "completed"
    },
    "tags": []
   },
   "outputs": [
    {
     "name": "stdout",
     "output_type": "stream",
     "text": [
      "Dataset ImageFolder\n",
      "    Number of datapoints: 8982\n",
      "    Root location: ../input/face-mask-detection/Dataset\n",
      "    StandardTransform\n",
      "Transform: Compose(\n",
      "               ToTensor()\n",
      "               Normalize(mean=(0.5, 0.5, 0.5), std=(0.5, 0.5, 0.5))\n",
      "           )\n"
     ]
    }
   ],
   "source": [
    "# Import dataset and create Loader\n",
    "data_dir = \"../input/face-mask-detection/Dataset\"\n",
    "\n",
    "data_transforms = transforms.Compose([\n",
    "\n",
    "        transforms.ToTensor(),\n",
    "        transforms.Normalize((0.5, 0.5, 0.5), (0.5, 0.5, 0.5))\n",
    "    ])\n",
    "\n",
    "dataset=torchvision.datasets.ImageFolder(data_dir,transform=data_transforms)\n",
    "print(dataset)\n",
    "\n",
    "train_set_size = int(len(dataset)*0.1)\n",
    "test_set_size = len(dataset) - train_set_size\n",
    "\n",
    "train_dataset, test_dataset = random_split(dataset, [train_set_size, test_set_size])\n",
    "testloader = DataLoader(test_dataset, 128)\n",
    "\n",
    "\n"
   ]
  },
  {
   "cell_type": "code",
   "execution_count": 4,
   "id": "cc295d11",
   "metadata": {
    "execution": {
     "iopub.execute_input": "2022-07-25T16:42:54.548011Z",
     "iopub.status.busy": "2022-07-25T16:42:54.547421Z",
     "iopub.status.idle": "2022-07-25T16:42:55.376236Z",
     "shell.execute_reply": "2022-07-25T16:42:55.375237Z"
    },
    "papermill": {
     "duration": 0.835195,
     "end_time": "2022-07-25T16:42:55.379021",
     "exception": false,
     "start_time": "2022-07-25T16:42:54.543826",
     "status": "completed"
    },
    "tags": []
   },
   "outputs": [],
   "source": [
    "train_features, train_labels = next(iter(testloader))"
   ]
  },
  {
   "cell_type": "code",
   "execution_count": 5,
   "id": "f7266551",
   "metadata": {
    "execution": {
     "iopub.execute_input": "2022-07-25T16:42:55.386507Z",
     "iopub.status.busy": "2022-07-25T16:42:55.386110Z",
     "iopub.status.idle": "2022-07-25T16:42:55.391941Z",
     "shell.execute_reply": "2022-07-25T16:42:55.390890Z"
    },
    "papermill": {
     "duration": 0.013029,
     "end_time": "2022-07-25T16:42:55.395274",
     "exception": false,
     "start_time": "2022-07-25T16:42:55.382245",
     "status": "completed"
    },
    "tags": []
   },
   "outputs": [
    {
     "name": "stdout",
     "output_type": "stream",
     "text": [
      "['mask_weared_incorrect', 'with_mask', 'without_mask']\n"
     ]
    }
   ],
   "source": [
    "print(dataset.classes)"
   ]
  },
  {
   "cell_type": "code",
   "execution_count": 6,
   "id": "559f8ea0",
   "metadata": {
    "execution": {
     "iopub.execute_input": "2022-07-25T16:42:55.401946Z",
     "iopub.status.busy": "2022-07-25T16:42:55.401699Z",
     "iopub.status.idle": "2022-07-25T16:43:59.347769Z",
     "shell.execute_reply": "2022-07-25T16:43:59.346781Z"
    },
    "papermill": {
     "duration": 63.952226,
     "end_time": "2022-07-25T16:43:59.350398",
     "exception": false,
     "start_time": "2022-07-25T16:42:55.398172",
     "status": "completed"
    },
    "tags": []
   },
   "outputs": [],
   "source": [
    "# Make predictions\n",
    "\n",
    "from sklearn.metrics import confusion_matrix\n",
    "import seaborn as sn\n",
    "import pandas as pd\n",
    "\n",
    "\n",
    "\n",
    "y_pred = []\n",
    "y_true = []\n",
    "\n",
    "# iterate over test data\n",
    "for inputs, labels in testloader:\n",
    "        output = model(inputs.to(device)) # Feed Network\n",
    "\n",
    "        output = (torch.max(torch.exp(output), 1)[1]).data.cpu().numpy()\n",
    "        y_pred.extend(output) # Save Prediction\n",
    "        \n",
    "        labels = labels.data.cpu().numpy()\n",
    "        y_true.extend(labels) # Save Truth"
   ]
  },
  {
   "cell_type": "code",
   "execution_count": 7,
   "id": "330c02df",
   "metadata": {
    "execution": {
     "iopub.execute_input": "2022-07-25T16:43:59.358159Z",
     "iopub.status.busy": "2022-07-25T16:43:59.357388Z",
     "iopub.status.idle": "2022-07-25T16:43:59.721103Z",
     "shell.execute_reply": "2022-07-25T16:43:59.719940Z"
    },
    "papermill": {
     "duration": 0.370083,
     "end_time": "2022-07-25T16:43:59.723673",
     "exception": false,
     "start_time": "2022-07-25T16:43:59.353590",
     "status": "completed"
    },
    "tags": []
   },
   "outputs": [
    {
     "data": {
      "text/plain": [
       "<AxesSubplot:>"
      ]
     },
     "execution_count": 7,
     "metadata": {},
     "output_type": "execute_result"
    },
    {
     "data": {
      "image/png": "[encoded data removed]",
      "text/plain": [
       "<Figure size 864x504 with 2 Axes>"
      ]
     },
     "metadata": {
      "needs_background": "light"
     },
     "output_type": "display_data"
    }
   ],
   "source": [
    "# Plot the confusion matrix\n",
    "\n",
    "classes = ('Mask_weared_incorrect', 'With_mask', 'Without_mask')\n",
    "\n",
    "# Build confusion matrix\n",
    "cf_matrix = confusion_matrix(y_true, y_pred)\n",
    "df_cm = pd.DataFrame(cf_matrix/np.sum(cf_matrix), index = [i for i in classes],\n",
    "                     columns = [i for i in classes])\n",
    "plt.figure(figsize = (12,7))\n",
    "sn.heatmap(df_cm, annot=True,fmt='.2%')"
   ]
  }
 ],
 "metadata": {
  "kernelspec": {
   "display_name": "Python 3",
   "language": "python",
   "name": "python3"
  },
  "language_info": {
   "codemirror_mode": {
    "name": "ipython",
    "version": 3
   },
   "file_extension": ".py",
   "mimetype": "text/x-python",
   "name": "python",
   "nbconvert_exporter": "python",
   "pygments_lexer": "ipython3",
   "version": "3.7.12"
  },
  "papermill": {
   "default_parameters": {},
   "duration": 90.441319,
   "end_time": "2022-07-25T16:44:01.155584",
   "environment_variables": {},
   "exception": null,
   "input_path": "__notebook__.ipynb",
   "output_path": "__notebook__.ipynb",
   "parameters": {},
   "start_time": "2022-07-25T16:42:30.714265",
   "version": "2.3.4"
  }
 },
 "nbformat": 4,
 "nbformat_minor": 5
}
